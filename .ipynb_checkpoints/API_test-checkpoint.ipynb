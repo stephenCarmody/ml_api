{
 "cells": [
  {
   "cell_type": "code",
   "execution_count": 8,
   "metadata": {},
   "outputs": [
    {
     "data": {
      "text/plain": [
       "{'task': 'Hello world'}"
      ]
     },
     "execution_count": 8,
     "metadata": {},
     "output_type": "execute_result"
    }
   ],
   "source": [
    "import requests\n",
    "import json\n",
    "\n",
    "to_predict_dict = {'fixed acidity': 7.0,\n",
    " 'volatile acidity': 0.17,\n",
    " 'citric acid': 0.74,\n",
    " 'residual sugar': 12.8,\n",
    " 'chlorides': 0.045,\n",
    " 'free sulfur dioxide': 24.0,\n",
    " 'total sulfur dioxide': 126.0,\n",
    " 'density': 0.9942,\n",
    " 'pH': 3.26,\n",
    " 'sulphates': 0.38,\n",
    " 'alcohol': 12.2,\n",
    " 'wine_type': 'white'}\n",
    "\n",
    "url = 'http://127.0.0.1:5000/predict'\n",
    "r = requests.get(url, data=to_predict_dict); r.json()"
   ]
  },
  {
   "cell_type": "code",
   "execution_count": 9,
   "metadata": {},
   "outputs": [
    {
     "data": {
      "text/plain": [
       "{'status': True, 'quote': 'None added. Good'}"
      ]
     },
     "execution_count": 9,
     "metadata": {},
     "output_type": "execute_result"
    }
   ],
   "source": [
    "url = 'http://127.0.0.1:5000/'\n",
    "r = requests.post(url); r.json()"
   ]
  },
  {
   "cell_type": "code",
   "execution_count": 20,
   "metadata": {},
   "outputs": [
    {
     "data": {
      "text/plain": [
       "{'input': None, 'status': True}"
      ]
     },
     "execution_count": 20,
     "metadata": {},
     "output_type": "execute_result"
    }
   ],
   "source": [
    "url = 'http://127.0.0.1:5000/predict'\n",
    "r = requests.post(url, params={'query':'test'}); r.json()"
   ]
  }
 ],
 "metadata": {
  "kernelspec": {
   "display_name": "Python 3",
   "language": "python",
   "name": "python3"
  },
  "language_info": {
   "codemirror_mode": {
    "name": "ipython",
    "version": 3
   },
   "file_extension": ".py",
   "mimetype": "text/x-python",
   "name": "python",
   "nbconvert_exporter": "python",
   "pygments_lexer": "ipython3",
   "version": "3.7.3"
  }
 },
 "nbformat": 4,
 "nbformat_minor": 4
}
