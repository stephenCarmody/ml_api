{
 "cells": [
  {
   "cell_type": "markdown",
   "metadata": {},
   "source": [
    "# Resources\n",
    "---\n",
    "- Overview\n",
    "    - Best overall overview: https://christophergs.github.io/machine%20learning/2019/03/17/how-to-deploy-machine-learning-models/\n",
    "    - https://medium.com/dataswati-garage/deploy-your-machine-learning-model-as-api-in-5-minutes-with-docker-and-flask-8aa747b1263b\n",
    "    - https://medium.com/dataswati-garage/create-a-robust-ai-rest-api-71a8050ce314\n",
    "- Data Validation Library: https://pydantic-docs.helpmanual.io/\n",
    "- Tutorials:\n",
    "    - https://towardsdatascience.com/how-to-deploy-a-machine-learning-model-dc51200fe8cf\n",
    "    - https://machinelearningmastery.com/deploy-machine-learning-model-to-production/\n",
    "    - https://towardsdatascience.com/simple-way-to-deploy-machine-learning-models-to-cloud-fd58b771fdcf\n",
    "- Creating custom sklearn pipelines:\n",
    "    - https://towardsdatascience.com/custom-transformers-and-ml-data-pipelines-with-python-20ea2a7adb65\n",
    "    - https://stackoverflow.com/questions/48673402/how-can-i-standardize-only-numeric-variables-in-an-sklearn-pipeline\n",
    "    - https://stackoverflow.com/questions/34802465/sklearn-is-there-any-way-to-debug-pipelines\n",
    "    - Good Stuff on Pipelines & Feature Union: https://www.kaggle.com/baghern/a-deep-dive-into-sklearn-pipelines\n",
    "    - Load pipelines with custom classes: https://rebeccabilbro.github.io/module-main-has-no-attribute/\n",
    "- Logging & Monitoring\n",
    "    - https://towardsdatascience.com/putting-ml-in-production-ii-logging-and-monitoring-algorithms-91f174044e4e  \n",
    "- Deploy\n",
    "    - https://github.com/bndr/pipreqs\n",
    "    - Docker Port Issues\n",
    "        - https://stackoverflow.com/questions/26423984/unable-to-connect-to-flask-app-on-docker-from-host\n",
    "        - https://stackoverflow.com/questions/51313043/docker-gets-flask-server-running-but-i-cant-connect-to-it-with-my-browser"
   ]
  },
  {
   "cell_type": "markdown",
   "metadata": {},
   "source": [
    "## Things to Consider\n",
    "- Hwo often will you update the model"
   ]
  },
  {
   "cell_type": "markdown",
   "metadata": {},
   "source": [
    "## Steps\n",
    "- Will it be batch or API\n",
    "- Model training & selection\n",
    "- Serialize Model\n",
    "- Develop Automated Tests for Model\n",
    "    - Minimum performance requirements\n",
    "- Create data pre preprocessing pipeline\n",
    "    - Create sklearn pipeline object & serialise it for later use in production.\n",
    "    - Data validation\n",
    "- Testing & Monitoring\n",
    "    - Differential Test\n",
    "    - Concept (variable) drift\n",
    "    - Benchmark Tests\n",
    "    - Logging\n",
    "- Deploy\n",
    "    - Create docker file\n",
    "    - Create requirements file"
   ]
  }
 ],
 "metadata": {
  "kernelspec": {
   "display_name": "Python 3",
   "language": "python",
   "name": "python3"
  },
  "language_info": {
   "codemirror_mode": {
    "name": "ipython",
    "version": 3
   },
   "file_extension": ".py",
   "mimetype": "text/x-python",
   "name": "python",
   "nbconvert_exporter": "python",
   "pygments_lexer": "ipython3",
   "version": "3.7.3"
  }
 },
 "nbformat": 4,
 "nbformat_minor": 4
}
