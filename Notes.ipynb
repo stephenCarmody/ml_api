{
 "cells": [
  {
   "cell_type": "markdown",
   "metadata": {},
   "source": [
    "# Resources\n",
    "---\n",
    "- Best overall overview: https://christophergs.github.io/machine%20learning/2019/03/17/how-to-deploy-machine-learning-models/\n",
    "- Data Validation Library: https://pydantic-docs.helpmanual.io/\n",
    "- Tutorials:\n",
    "    - https://towardsdatascience.com/how-to-deploy-a-machine-learning-model-dc51200fe8cf\n",
    "    - https://machinelearningmastery.com/deploy-machine-learning-model-to-production/\n",
    "    - https://towardsdatascience.com/simple-way-to-deploy-machine-learning-models-to-cloud-fd58b771fdcf\n",
    "- Creating custom sklearn pipelines:\n",
    "    - https://towardsdatascience.com/custom-transformers-and-ml-data-pipelines-with-python-20ea2a7adb65\n",
    "    - https://stackoverflow.com/questions/48673402/how-can-i-standardize-only-numeric-variables-in-an-sklearn-pipeline\n",
    "    - https://stackoverflow.com/questions/34802465/sklearn-is-there-any-way-to-debug-pipelines"
   ]
  },
  {
   "cell_type": "markdown",
   "metadata": {},
   "source": [
    "## Things to Consider\n",
    "- Hwo often will you update the model"
   ]
  },
  {
   "cell_type": "markdown",
   "metadata": {},
   "source": [
    "## Steps\n",
    "- Will it be batch or API\n",
    "- Model training & selection\n",
    "- Serialize Model\n",
    "- Develop Automated Tests for Model\n",
    "    - Minimum performance requirements\n",
    "- Create data pre preprocessing pipeline\n",
    "    - Create sklearn pipeline object & serialise it for later use in production.\n",
    "    - Data validation"
   ]
  }
 ],
 "metadata": {
  "kernelspec": {
   "display_name": "Python 3",
   "language": "python",
   "name": "python3"
  },
  "language_info": {
   "codemirror_mode": {
    "name": "ipython",
    "version": 3
   },
   "file_extension": ".py",
   "mimetype": "text/x-python",
   "name": "python",
   "nbconvert_exporter": "python",
   "pygments_lexer": "ipython3",
   "version": "3.7.3"
  }
 },
 "nbformat": 4,
 "nbformat_minor": 4
}
