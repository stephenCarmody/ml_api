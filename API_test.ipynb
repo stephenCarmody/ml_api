{
 "cells": [
  {
   "cell_type": "code",
   "execution_count": 13,
   "metadata": {},
   "outputs": [
    {
     "data": {
      "text/plain": [
       "{'task': 'Hello world'}"
      ]
     },
     "execution_count": 13,
     "metadata": {},
     "output_type": "execute_result"
    }
   ],
   "source": [
    "import requests\n",
    "import json\n",
    "\n",
    "to_predict_dict = {'fixed acidity': 7.0,\n",
    " 'volatile acidity': 0.17,\n",
    " 'citric acid': 0.74,\n",
    " 'residual sugar': 12.8,\n",
    " 'chlorides': 0.045,\n",
    " 'free sulfur dioxide': 24.0,\n",
    " 'total sulfur dioxide': 126.0,\n",
    " 'density': 0.9942,\n",
    " 'pH': 3.26,\n",
    " 'sulphates': 0.38,\n",
    " 'alcohol': 12.2,\n",
    " 'wine_type': 'white'}\n",
    "\n",
    "url = 'http://127.0.0.1:5000/predict'\n",
    "r = requests.get(url, json=to_predict_dict); r.json()"
   ]
  },
  {
   "cell_type": "code",
   "execution_count": 11,
   "metadata": {},
   "outputs": [
    {
     "data": {
      "text/plain": [
       "\"I'm alive!\""
      ]
     },
     "execution_count": 11,
     "metadata": {},
     "output_type": "execute_result"
    }
   ],
   "source": [
    "url = 'http://127.0.0.1:5000/'\n",
    "r = requests.get(url); r.json()"
   ]
  },
  {
   "cell_type": "code",
   "execution_count": 12,
   "metadata": {},
   "outputs": [
    {
     "data": {
      "text/plain": [
       "{'message': 'Internal Server Error'}"
      ]
     },
     "execution_count": 12,
     "metadata": {},
     "output_type": "execute_result"
    }
   ],
   "source": [
    "url = 'http://127.0.0.1:5000/predict'\n",
    "r = requests.post(url, json=to_predict_dict); r.json()"
   ]
  },
  {
   "cell_type": "code",
   "execution_count": 4,
   "metadata": {},
   "outputs": [
    {
     "data": {
      "text/plain": [
       "['.DS_Store',\n",
       " '.git',\n",
       " '.gitignore',\n",
       " '.ipynb_checkpoints',\n",
       " '.ipython',\n",
       " '.local',\n",
       " 'API_test.ipynb',\n",
       " 'app',\n",
       " 'docker-compose.yml',\n",
       " 'Dockerfile',\n",
       " 'img',\n",
       " 'notebooks',\n",
       " 'Notes.ipynb',\n",
       " 'python_requirements.txt']"
      ]
     },
     "execution_count": 4,
     "metadata": {},
     "output_type": "execute_result"
    }
   ],
   "source": [
    "import os\n",
    "os.listdir(\".\")"
   ]
  }
 ],
 "metadata": {
  "kernelspec": {
   "display_name": "Python 3",
   "language": "python",
   "name": "python3"
  },
  "language_info": {
   "codemirror_mode": {
    "name": "ipython",
    "version": 3
   },
   "file_extension": ".py",
   "mimetype": "text/x-python",
   "name": "python",
   "nbconvert_exporter": "python",
   "pygments_lexer": "ipython3",
   "version": "3.7.3"
  }
 },
 "nbformat": 4,
 "nbformat_minor": 4
}
